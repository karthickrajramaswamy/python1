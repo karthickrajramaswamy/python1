{
  "nbformat": 4,
  "nbformat_minor": 0,
  "metadata": {
    "colab": {
      "provenance": [],
      "authorship_tag": "ABX9TyNEdX8oCh3eQKctQb6vM0NF",
      "include_colab_link": true
    },
    "kernelspec": {
      "name": "python3",
      "display_name": "Python 3"
    },
    "language_info": {
      "name": "python"
    }
  },
  "cells": [
    {
      "cell_type": "markdown",
      "metadata": {
        "id": "view-in-github",
        "colab_type": "text"
      },
      "source": [
        "<a href=\"https://colab.research.google.com/github/karthickrajramaswamy/python1/blob/main/python1.ipynb\" target=\"_parent\"><img src=\"https://colab.research.google.com/assets/colab-badge.svg\" alt=\"Open In Colab\"/></a>"
      ]
    },
    {
      "cell_type": "code",
      "execution_count": 4,
      "metadata": {
        "colab": {
          "base_uri": "https://localhost:8080/"
        },
        "id": "pRnWMUW0d5W8",
        "outputId": "1a5cc542-39c0-4bee-d939-91e590d56d62"
      },
      "outputs": [
        {
          "output_type": "stream",
          "name": "stdout",
          "text": [
            "hello\n"
          ]
        }
      ],
      "source": [
        "print(\"hello\")"
      ]
    },
    {
      "cell_type": "code",
      "source": [
        "input(\"what is your name\")"
      ],
      "metadata": {
        "colab": {
          "base_uri": "https://localhost:8080/",
          "height": 52
        },
        "id": "yQp6G8-1eR7D",
        "outputId": "de9b28cf-50d3-4339-ea94-4e795c8f7fdf"
      },
      "execution_count": 2,
      "outputs": [
        {
          "name": "stdout",
          "output_type": "stream",
          "text": [
            "what is your namekarthick\n"
          ]
        },
        {
          "output_type": "execute_result",
          "data": {
            "text/plain": [
              "'karthick'"
            ],
            "application/vnd.google.colaboratory.intrinsic+json": {
              "type": "string"
            }
          },
          "metadata": {},
          "execution_count": 2
        }
      ]
    },
    {
      "cell_type": "code",
      "source": [
        "#print(\"LP\")\n",
        "'''\n",
        "this is not executed\n",
        "print(\"karthick\")\n",
        "'''\n",
        "print(\"LP\")"
      ],
      "metadata": {
        "colab": {
          "base_uri": "https://localhost:8080/"
        },
        "id": "PN7JoYjXfApp",
        "outputId": "043b0cfe-3d45-4a6e-b16b-825d612a6751"
      },
      "execution_count": 6,
      "outputs": [
        {
          "output_type": "stream",
          "name": "stdout",
          "text": [
            "LP\n"
          ]
        }
      ]
    },
    {
      "cell_type": "code",
      "source": [
        "#Data Types\n",
        "'''\n",
        "text type:str\n",
        "Numeric Types: int, float(decimal value)\n",
        "Sequence Types:list,tuple\n",
        "Mapping Type: dict\n",
        "Set Types: set\n",
        "Boolean Type: bool\n",
        "None Type: None Type\n",
        "'''"
      ],
      "metadata": {
        "id": "xziCYoyTfFs0"
      },
      "execution_count": 4,
      "outputs": []
    },
    {
      "cell_type": "code",
      "source": [],
      "metadata": {
        "id": "mZMHETCBhEoa"
      },
      "execution_count": null,
      "outputs": []
    },
    {
      "cell_type": "code",
      "source": [
        "var = \"Any Value\" ''' Any thing inside of double codes would be the String'''\n",
        "type(var)\n",
        "var = 12\n",
        "type(var)"
      ],
      "metadata": {
        "colab": {
          "base_uri": "https://localhost:8080/"
        },
        "id": "baUAMJNZgbkP",
        "outputId": "b6441592-4aff-4ecc-a61e-40d949e8d482"
      },
      "execution_count": 10,
      "outputs": [
        {
          "output_type": "execute_result",
          "data": {
            "text/plain": [
              "int"
            ]
          },
          "metadata": {},
          "execution_count": 10
        }
      ]
    },
    {
      "cell_type": "code",
      "source": [
        "\n",
        "x = False\n",
        "type(x)"
      ],
      "metadata": {
        "colab": {
          "base_uri": "https://localhost:8080/"
        },
        "id": "-NTv8g5yhJDj",
        "outputId": "2b1549c6-e207-4123-ce3d-04616e0a7b90"
      },
      "execution_count": 13,
      "outputs": [
        {
          "output_type": "execute_result",
          "data": {
            "text/plain": [
              "bool"
            ]
          },
          "metadata": {},
          "execution_count": 13
        }
      ]
    },
    {
      "cell_type": "code",
      "source": [
        "print(6/3) # division\n",
        "print(6//3) #floor division -- it always return the question value\n",
        "print(6%3) #moduler division - remainder"
      ],
      "metadata": {
        "colab": {
          "base_uri": "https://localhost:8080/"
        },
        "id": "I58mmdSMhnP9",
        "outputId": "99d625b2-018f-4f03-aabd-97de785ec6c1"
      },
      "execution_count": 14,
      "outputs": [
        {
          "output_type": "stream",
          "name": "stdout",
          "text": [
            "2.0\n",
            "2\n",
            "0\n"
          ]
        }
      ]
    },
    {
      "cell_type": "code",
      "source": [
        "#Assignment Operator\n",
        "x=6\n",
        "x += 1  #x = x+1\n",
        "print(x)"
      ],
      "metadata": {
        "colab": {
          "base_uri": "https://localhost:8080/"
        },
        "id": "eQL6otcikGnZ",
        "outputId": "76a703d3-8e18-4fbc-f59f-2c738501e6a0"
      },
      "execution_count": 23,
      "outputs": [
        {
          "output_type": "stream",
          "name": "stdout",
          "text": [
            "7\n"
          ]
        }
      ]
    },
    {
      "cell_type": "code",
      "source": [
        "x = 6\n",
        "x!=6 #boolean value"
      ],
      "metadata": {
        "colab": {
          "base_uri": "https://localhost:8080/"
        },
        "id": "JXVG-vQSkXsY",
        "outputId": "aa3d8fbf-ec4e-4cd1-aefa-00d52dcd3fa3"
      },
      "execution_count": 28,
      "outputs": [
        {
          "output_type": "execute_result",
          "data": {
            "text/plain": [
              "False"
            ]
          },
          "metadata": {},
          "execution_count": 28
        }
      ]
    },
    {
      "cell_type": "code",
      "source": [
        "x ==6\n"
      ],
      "metadata": {
        "colab": {
          "base_uri": "https://localhost:8080/"
        },
        "id": "JKsTmN9hlB9Z",
        "outputId": "026970b8-b938-4249-bcb1-a53f33632200"
      },
      "execution_count": 30,
      "outputs": [
        {
          "output_type": "execute_result",
          "data": {
            "text/plain": [
              "True"
            ]
          },
          "metadata": {},
          "execution_count": 30
        }
      ]
    },
    {
      "cell_type": "code",
      "source": [
        "#Statements\n",
        "#Sequential\n",
        "#Conditional - if, else, elif\n",
        "#Iterative - loops\n",
        "\n",
        "x = 25\n",
        "if x>15:\n",
        "  print(\"Greater\")  #indentspace\n",
        "else:\n",
        "  print(\"lesser\")"
      ],
      "metadata": {
        "colab": {
          "base_uri": "https://localhost:8080/"
        },
        "id": "Xr-G4plBlJuF",
        "outputId": "264278b9-5b6f-427b-8a51-3ffafdd760c4"
      },
      "execution_count": 32,
      "outputs": [
        {
          "output_type": "stream",
          "name": "stdout",
          "text": [
            "Greater\n"
          ]
        }
      ]
    },
    {
      "cell_type": "code",
      "source": [
        "x = int(input(\"Enter a number: \"))\n",
        "if x % 2 == 0:\n",
        "    print(\"The Even no  is.\")\n",
        "else:\n",
        "    print(\"The Odd no is.\")"
      ],
      "metadata": {
        "colab": {
          "base_uri": "https://localhost:8080/"
        },
        "id": "OlUTrDM-ngJ0",
        "outputId": "34910936-2886-4f9b-f6e9-bc1fac911f29"
      },
      "execution_count": 40,
      "outputs": [
        {
          "output_type": "stream",
          "name": "stdout",
          "text": [
            "Enter a number: 4\n",
            "The Even no  is.{x=int}\n"
          ]
        }
      ]
    },
    {
      "cell_type": "code",
      "source": [
        "rating = int(input(\"Enter the employee rating:\"))\n",
        "\n",
        "if rating>=4 and rating <=5:\n",
        "  print(\"Bonus is AED 1000\")\n",
        "elif rating ==3 or rating==2:\n",
        "  print(\"Bonus is AED 500\")\n",
        "elif rating<2:\n",
        "  print(\"Bonus is 0\")\n",
        "else:\n",
        "  print(\"Invalid rating\")"
      ],
      "metadata": {
        "colab": {
          "base_uri": "https://localhost:8080/"
        },
        "id": "98OmlZ89n940",
        "outputId": "f67bf94c-92b9-4a31-c120-692f2a14ed49"
      },
      "execution_count": 42,
      "outputs": [
        {
          "output_type": "stream",
          "name": "stdout",
          "text": [
            "Enter the employee rating:3\n",
            "Bonus is AED 500\n"
          ]
        }
      ]
    },
    {
      "cell_type": "code",
      "source": [
        "#iterative statement\n",
        "#range  -  start value, stop value, step size\n",
        "#1 -- i+1=2\n",
        "#2 -- i+1 = 3\n",
        "#---- 20 --- i+1 = 21 --- it will stop and it should not print 21\n",
        "for i in range(1,21): # in is another var to check the I values\n",
        "   print(i)\n"
      ],
      "metadata": {
        "colab": {
          "base_uri": "https://localhost:8080/"
        },
        "id": "m-rJFTe4vnz2",
        "outputId": "d0400435-40e0-4d9c-f455-de67b2bbe657"
      },
      "execution_count": 46,
      "outputs": [
        {
          "output_type": "stream",
          "name": "stdout",
          "text": [
            "1\n",
            "2\n",
            "3\n",
            "4\n",
            "5\n",
            "6\n",
            "7\n",
            "8\n",
            "9\n",
            "10\n",
            "11\n",
            "12\n",
            "13\n",
            "14\n",
            "15\n",
            "16\n",
            "17\n",
            "18\n",
            "19\n",
            "20\n"
          ]
        }
      ]
    },
    {
      "cell_type": "code",
      "source": [
        "#while loop\n",
        "x=6\n",
        "while (x<=10):\n",
        "  print(x)\n",
        "  x=x+1"
      ],
      "metadata": {
        "colab": {
          "base_uri": "https://localhost:8080/"
        },
        "id": "kSXaWOIHyVBb",
        "outputId": "4d8821f2-d6de-4653-db87-c5f854d2e312"
      },
      "execution_count": 51,
      "outputs": [
        {
          "output_type": "stream",
          "name": "stdout",
          "text": [
            "6\n",
            "7\n",
            "8\n",
            "9\n",
            "10\n"
          ]
        }
      ]
    },
    {
      "cell_type": "code",
      "source": [
        "for i in range(1,6):\n",
        "  t=0\n",
        "for j in range(1,6):\n",
        "  c=i+j\n",
        "  t += c\n",
        "  print(t)"
      ],
      "metadata": {
        "colab": {
          "base_uri": "https://localhost:8080/"
        },
        "id": "Nn85zhr0zHDX",
        "outputId": "d9a58ff9-ec85-49fb-ed69-c970e2de521d"
      },
      "execution_count": 62,
      "outputs": [
        {
          "output_type": "stream",
          "name": "stdout",
          "text": [
            "6\n",
            "13\n",
            "21\n",
            "30\n",
            "40\n"
          ]
        }
      ]
    },
    {
      "cell_type": "code",
      "source": [],
      "metadata": {
        "id": "rXjnpTry3OD7"
      },
      "execution_count": null,
      "outputs": []
    },
    {
      "cell_type": "code",
      "source": [
        "for i in range(8):\n",
        "  if i == 7:\n",
        "    break\n",
        "  print(i)"
      ],
      "metadata": {
        "colab": {
          "base_uri": "https://localhost:8080/"
        },
        "id": "xxh88Q9_zXio",
        "outputId": "eabea57c-6566-486a-9f90-2ff1593147f6"
      },
      "execution_count": 56,
      "outputs": [
        {
          "output_type": "stream",
          "name": "stdout",
          "text": [
            "0\n",
            "1\n",
            "2\n",
            "3\n",
            "4\n",
            "5\n",
            "6\n"
          ]
        }
      ]
    },
    {
      "cell_type": "code",
      "source": [
        "for i in range(8):\n",
        "  if i ==3:\n",
        "    continue\n",
        "  print(i)\n",
        ""
      ],
      "metadata": {
        "colab": {
          "base_uri": "https://localhost:8080/"
        },
        "id": "gEhbFMkr0eAh",
        "outputId": "2b1106dd-eca8-44df-a8c8-63d241388bbb"
      },
      "execution_count": 58,
      "outputs": [
        {
          "output_type": "stream",
          "name": "stdout",
          "text": [
            "0\n",
            "1\n",
            "2\n",
            "4\n",
            "5\n",
            "6\n",
            "7\n"
          ]
        }
      ]
    },
    {
      "cell_type": "code",
      "source": [
        "for i in range(1,6):\n",
        "  for j in range(i):\n",
        "    print(\"*\", end=\"\")\n",
        "  print()"
      ],
      "metadata": {
        "colab": {
          "base_uri": "https://localhost:8080/"
        },
        "id": "jbfJUd7Q0wnh",
        "outputId": "9b06efad-593a-463d-e9a5-87857259d349"
      },
      "execution_count": 63,
      "outputs": [
        {
          "output_type": "stream",
          "name": "stdout",
          "text": [
            "*\n",
            "**\n",
            "***\n",
            "****\n",
            "*****\n"
          ]
        }
      ]
    },
    {
      "cell_type": "code",
      "source": [
        "\n",
        "for i in range(5,50,5):\n",
        "    #if i % 5 == 0\n",
        "  print(i)"
      ],
      "metadata": {
        "colab": {
          "base_uri": "https://localhost:8080/"
        },
        "id": "uOAa6kX-3RNp",
        "outputId": "29a7649d-218a-40b1-c755-ed2e881fc934"
      },
      "execution_count": 73,
      "outputs": [
        {
          "output_type": "stream",
          "name": "stdout",
          "text": [
            "5\n",
            "10\n",
            "15\n",
            "20\n",
            "25\n",
            "30\n",
            "35\n",
            "40\n",
            "45\n"
          ]
        }
      ]
    },
    {
      "cell_type": "code",
      "source": [
        "#List\n",
        "# A list is a mutable ordered collection of elements.\n",
        "# list s can sotre different data types(integers, string etc.,)\n",
        "# they are defiend by Square breakets[] and the element is seperated by commas.\n",
        "# Build-in function len(),list(), append(),insert(),Count(),pop(),reverse()\n",
        "#sort(),sorted(),min(),max(),sum()\n",
        "\n",
        "x = [11,2,33,4]\n",
        "y=[\"karthick\",\"Banna\",\"Manago\"]\n",
        "print(y)\n",
        "print(x.count(2))\n",
        "\n",
        "y.append(\"kumar\")\n",
        "print(y)"
      ],
      "metadata": {
        "colab": {
          "base_uri": "https://localhost:8080/"
        },
        "id": "MQ6eiIx45nSQ",
        "outputId": "7dd57ec0-d35c-468e-f21f-1ac65c8a9240"
      },
      "execution_count": 76,
      "outputs": [
        {
          "output_type": "stream",
          "name": "stdout",
          "text": [
            "['karthick', 'Banna', 'Manago']\n",
            "1\n",
            "['karthick', 'Banna', 'Manago', 'kumar']\n"
          ]
        }
      ]
    },
    {
      "cell_type": "code",
      "source": [
        "a = [12,\"A\", False, \"A\", 4.3,78]\n",
        "print(a)\n",
        "print(len(a))\n",
        "print(a.count(2))\n",
        "print(a.count(78))\n",
        "a.append(\"B\")\n",
        "print(a)\n",
        "\n",
        "a.insert(1,\"Z\")\n",
        "print(a)\n",
        "\n",
        "a.pop()\n",
        "print(a)\n",
        "\n",
        "a.remove(\"A\")\n",
        "print(a)"
      ],
      "metadata": {
        "colab": {
          "base_uri": "https://localhost:8080/"
        },
        "id": "a4ZmSWg-5tgG",
        "outputId": "aa3b2cdf-5f1f-491d-fb22-71b9e8ac2b8a"
      },
      "execution_count": 93,
      "outputs": [
        {
          "output_type": "stream",
          "name": "stdout",
          "text": [
            "[12, 'A', False, 'A', 4.3, 78]\n",
            "6\n",
            "0\n",
            "1\n",
            "[12, 'A', False, 'A', 4.3, 78, 'B']\n",
            "[12, 'Z', 'A', False, 'A', 4.3, 78, 'B']\n",
            "[12, 'Z', 'A', False, 'A', 4.3, 78]\n",
            "[12, 'Z', False, 'A', 4.3, 78]\n"
          ]
        }
      ]
    },
    {
      "cell_type": "code",
      "source": [
        "x=[11,65,12,54,99,0]\n",
        "x.sort() # you need to run and change the sort vlaue then we need to use\n",
        "print(x)\n",
        "\n",
        "y=[9,5,23]\n",
        "sorted(y) # just for runtime\n",
        "print(y)\n",
        "\n",
        "x=[11,23,45,12]\n",
        "x.reverse()\n",
        "print(x)\n",
        "x.sort(reverse=True)\n",
        "print(x)"
      ],
      "metadata": {
        "colab": {
          "base_uri": "https://localhost:8080/"
        },
        "id": "MDS8d1mE-BDO",
        "outputId": "4ae0f660-7d1f-46dc-e50a-22de6fe15bcc"
      },
      "execution_count": 99,
      "outputs": [
        {
          "output_type": "stream",
          "name": "stdout",
          "text": [
            "[0, 11, 12, 54, 65, 99]\n",
            "[9, 5, 23]\n",
            "[12, 45, 23, 11]\n",
            "[45, 23, 12, 11]\n"
          ]
        }
      ]
    },
    {
      "cell_type": "code",
      "source": [
        "print(max(x))\n",
        "print(min(x))\n",
        "print(sum(y))\n",
        "\n",
        "#slicing function\n",
        "print(x[2])\n",
        "print(x[1:4])\n",
        "print(x[-2]) # second last element\n",
        "\n",
        "print(x[0:4])\n",
        "print(x[::2])\n",
        "\n",
        "# reverse a list\n",
        "print(x[:: -1])"
      ],
      "metadata": {
        "colab": {
          "base_uri": "https://localhost:8080/"
        },
        "id": "0bpDTGtb_VMP",
        "outputId": "bc778509-b534-43d6-922b-ffa0f9186081"
      },
      "execution_count": 107,
      "outputs": [
        {
          "output_type": "stream",
          "name": "stdout",
          "text": [
            "45\n",
            "11\n",
            "37\n",
            "12\n",
            "[23, 12, 11]\n",
            "12\n",
            "[45, 23, 12, 11]\n",
            "[45, 12]\n",
            "[11, 12, 23, 45]\n"
          ]
        }
      ]
    },
    {
      "cell_type": "code",
      "source": [
        "#Tuple\n",
        "# A tuple is an ordered, immutable collection of elements.\n",
        "# Tuple is defined by paraenthess().\n",
        "\n",
        "\n",
        "x=(1,2,3)\n",
        "print(type(x))\n",
        "y=[1,2,3]\n",
        "print(type(y))"
      ],
      "metadata": {
        "colab": {
          "base_uri": "https://localhost:8080/"
        },
        "id": "OI-55O9cAzAr",
        "outputId": "493101de-70ad-469f-c404-60d1fff2b91c"
      },
      "execution_count": 109,
      "outputs": [
        {
          "output_type": "stream",
          "name": "stdout",
          "text": [
            "<class 'tuple'>\n",
            "<class 'list'>\n"
          ]
        }
      ]
    },
    {
      "cell_type": "code",
      "source": [
        "#Dictionary\n",
        "# A dictionary is a collection of key-value pairs.\n",
        "# Each key is unique and maps to a value.\n",
        "# using get() method to avoid the errors when the key is not found.\n",
        "#using items() method to access both the keys and values.\n",
        "# built - in functions len(),dict(),keys(), items(),get(),update(),del()\n",
        "\n",
        "\n",
        "# creating a dictionary\n",
        "student = {\n",
        "    \"name\": \"Karthick\",\n",
        "    \"age\" : 25,\n",
        "    \"professional\":\" AI Engineer\"\n",
        "\n",
        "}\n",
        "print(student)\n",
        "\n",
        "#Accessing value using key\n",
        "print(student[\"name\"]) #output:karthick\n",
        "\n",
        "print(student[\"age\"]) # output:25"
      ],
      "metadata": {
        "colab": {
          "base_uri": "https://localhost:8080/"
        },
        "id": "vDzBP-82BJux",
        "outputId": "9230cbbc-04fb-4e11-abcb-0bac3374d7f2"
      },
      "execution_count": 113,
      "outputs": [
        {
          "output_type": "stream",
          "name": "stdout",
          "text": [
            "{'name': 'Karthick', 'age': 25, 'professional': ' AI Engineer'}\n",
            "Karthick\n",
            "25\n"
          ]
        }
      ]
    },
    {
      "cell_type": "code",
      "source": [
        "student = {\n",
        "    \"name\": \"Karthick\",\n",
        "    \"age\" : 25,\n",
        "    \"grade\":\" 11th\",\n",
        "    \"school\":\"A\"\n",
        "\n",
        "}\n",
        "print(student)"
      ],
      "metadata": {
        "colab": {
          "base_uri": "https://localhost:8080/"
        },
        "id": "dHaEMs4kC0rW",
        "outputId": "d58b22b7-2d0a-468d-97cc-1629ab86d87f"
      },
      "execution_count": 114,
      "outputs": [
        {
          "output_type": "stream",
          "name": "stdout",
          "text": [
            "{'name': 'Karthick', 'age': 25, 'grade': ' 11th', 'school': 'A'}\n"
          ]
        }
      ]
    },
    {
      "cell_type": "code",
      "source": [
        "print(student.keys())\n",
        "print(student.values())\n",
        "print(student.items())"
      ],
      "metadata": {
        "colab": {
          "base_uri": "https://localhost:8080/"
        },
        "id": "nKlw8eFoBom_",
        "outputId": "c2181e44-d531-4fbe-81dd-836abad5b86c"
      },
      "execution_count": 116,
      "outputs": [
        {
          "output_type": "stream",
          "name": "stdout",
          "text": [
            "dict_keys(['name', 'age', 'grade', 'school'])\n",
            "dict_values(['Karthick', 25, ' 11th', 'A'])\n",
            "dict_items([('name', 'Karthick'), ('age', 25), ('grade', ' 11th'), ('school', 'A')])\n"
          ]
        }
      ]
    },
    {
      "cell_type": "code",
      "source": [
        "student[\"country\"] = \"India\"\n",
        "print(student)\n",
        "\n",
        "#update - update and merge the new value in current record\n",
        "student.update({\"hobbies\":\"reading\",\"age\":\"25\"})\n",
        "print(student)\n",
        "\n",
        "del student[\"age\"] # it will delete the age value 25\n",
        "print(student)\n",
        "\n",
        "student.clear() # it will gives as empty dictionary\n",
        "print(student)\n"
      ],
      "metadata": {
        "colab": {
          "base_uri": "https://localhost:8080/"
        },
        "id": "oWIhG1ksDknX",
        "outputId": "ff80733e-94d8-46c9-de2c-f3d6328bb831"
      },
      "execution_count": 121,
      "outputs": [
        {
          "output_type": "stream",
          "name": "stdout",
          "text": [
            "{'country': 'India'}\n",
            "{'country': 'India', 'hobbies': 'reading', 'age': '25'}\n",
            "{'country': 'India', 'hobbies': 'reading'}\n",
            "{}\n"
          ]
        }
      ]
    },
    {
      "cell_type": "code",
      "source": [
        "#List of Characters\n",
        "char_list = ['a', 'b', 'c', 'a', 'b']\n",
        "\n",
        "#Dictionary to store the frequency of each character\n",
        "frequency = {}\n",
        "\n",
        "#Counting the frequency\n",
        "for char in char_list:\n",
        "  if char in frequency:\n",
        "      frequency[char] +=1\n",
        "  else:\n",
        "      frequency [char] =1\n",
        "\n",
        "  print(frequency)\n",
        "\n",
        "\n",
        "\n"
      ],
      "metadata": {
        "colab": {
          "base_uri": "https://localhost:8080/"
        },
        "id": "C6K8aeP4FIL4",
        "outputId": "549b1ac6-89fb-44c2-8d42-d1ea28c3b4b4"
      },
      "execution_count": 131,
      "outputs": [
        {
          "output_type": "stream",
          "name": "stdout",
          "text": [
            "{'a': 1}\n",
            "{'a': 1, 'b': 1}\n",
            "{'a': 1, 'b': 1, 'c': 1}\n",
            "{'a': 2, 'b': 1, 'c': 1}\n",
            "{'a': 2, 'b': 2, 'c': 1}\n"
          ]
        }
      ]
    },
    {
      "cell_type": "code",
      "source": [],
      "metadata": {
        "id": "7NTvivLrV9LZ"
      },
      "execution_count": null,
      "outputs": []
    },
    {
      "cell_type": "code",
      "source": [
        "#sets\n",
        "x = set([9,8,7,9])\n",
        "x"
      ],
      "metadata": {
        "colab": {
          "base_uri": "https://localhost:8080/"
        },
        "id": "Hi3XDHwWHl4t",
        "outputId": "784533d9-9d84-41ed-bd30-90db12fb53bd"
      },
      "execution_count": 125,
      "outputs": [
        {
          "output_type": "execute_result",
          "data": {
            "text/plain": [
              "{7, 8, 9}"
            ]
          },
          "metadata": {},
          "execution_count": 125
        }
      ]
    },
    {
      "cell_type": "code",
      "source": [
        "x=set([\"FIVE\",\"b\",\"A\",'a',7,9,\"A\"])\n",
        "x"
      ],
      "metadata": {
        "colab": {
          "base_uri": "https://localhost:8080/"
        },
        "id": "X_4Fs1XOIG7Z",
        "outputId": "dd14b586-0fe8-4979-e191-5b60816a8602"
      },
      "execution_count": 127,
      "outputs": [
        {
          "output_type": "execute_result",
          "data": {
            "text/plain": [
              "{7, 9, 'A', 'FIVE', 'a', 'b'}"
            ]
          },
          "metadata": {},
          "execution_count": 127
        }
      ]
    },
    {
      "cell_type": "code",
      "source": [
        "#File Handling\n",
        "#with... open automatically closes the file, so we don't have to use the close() function\n",
        "# different file Mode in Python\n",
        "# 'r' - open the text file for reading. Raises an i/o  error if the file does not exist.\n",
        "# 'r+' Open the file for reading and writing. Raises an I/O error if the file does not exist.\n",
        "# 'w' open the file for writing. Truncates the file if it already exists.\n",
        "# 'w+'\n",
        "\n",
        "import csv\n",
        "\n",
        "with open('Book.csv', 'r') as file1:\n",
        "  reader =csv.reader(file1)\n",
        "\n",
        "  for row in reader:\n",
        "     print(row)\n",
        "\n"
      ],
      "metadata": {
        "id": "lli3E1fWIZF0"
      },
      "execution_count": null,
      "outputs": []
    }
  ]
}